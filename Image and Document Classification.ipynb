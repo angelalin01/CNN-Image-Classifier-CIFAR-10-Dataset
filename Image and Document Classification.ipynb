{
  "nbformat": 4,
  "nbformat_minor": 0,
  "metadata": {
    "colab": {
      "name": "Copy of CIS419519_HW4.ipynb",
      "provenance": [],
      "collapsed_sections": [],
      "include_colab_link": true
    },
    "kernelspec": {
      "name": "python3",
      "display_name": "Python 3"
    },
    "accelerator": "GPU"
  },
  "cells": [
    {
      "cell_type": "markdown",
      "metadata": {
        "id": "view-in-github",
        "colab_type": "text"
      },
      "source": [
        "<a href=\"https://colab.research.google.com/github/angelalin01/Image-and-Document-Classification/blob/main/Image%20and%20Document%20Classification.ipynb\" target=\"_parent\"><img src=\"https://colab.research.google.com/assets/colab-badge.svg\" alt=\"Open In Colab\"/></a>"
      ]
    },
    {
      "cell_type": "code",
      "metadata": {
        "id": "8fQ-AA4aic72",
        "colab": {
          "base_uri": "https://localhost:8080/"
        },
        "outputId": "334dba5d-460b-4bff-cd9b-dc350ae5be7d"
      },
      "source": [
        "from google.colab import drive\n",
        "drive.mount('/content/drive')"
      ],
      "execution_count": null,
      "outputs": [
        {
          "output_type": "stream",
          "text": [
            "Mounted at /content/drive\n"
          ],
          "name": "stdout"
        }
      ]
    },
    {
      "cell_type": "code",
      "metadata": {
        "colab": {
          "base_uri": "https://localhost:8080/"
        },
        "id": "MmMY7n8OLuYv",
        "outputId": "61c3bbb7-19ed-4291-cade-826632d54227"
      },
      "source": [
        "%ls"
      ],
      "execution_count": null,
      "outputs": [
        {
          "output_type": "stream",
          "text": [
            "\u001b[0m\u001b[01;34mdrive\u001b[0m/  \u001b[01;34msample_data\u001b[0m/\n"
          ],
          "name": "stdout"
        }
      ]
    },
    {
      "cell_type": "code",
      "metadata": {
        "colab": {
          "base_uri": "https://localhost:8080/"
        },
        "id": "QDSPAAVeLzRI",
        "outputId": "dd349ff0-78f6-466a-d150-ddda1635eb37"
      },
      "source": [
        "%cd drive\n",
        "%ls"
      ],
      "execution_count": null,
      "outputs": [
        {
          "output_type": "stream",
          "text": [
            "/content/drive\n",
            "\u001b[0m\u001b[01;34mMyDrive\u001b[0m/\n"
          ],
          "name": "stdout"
        }
      ]
    },
    {
      "cell_type": "code",
      "metadata": {
        "colab": {
          "base_uri": "https://localhost:8080/"
        },
        "id": "_xLsLj1TL3lg",
        "outputId": "5410b964-c494-4a7d-a829-d5b6c47d87d8"
      },
      "source": [
        "%cd 'My Drive/Colab Notebooks'\n",
        "%ls"
      ],
      "execution_count": null,
      "outputs": [
        {
          "output_type": "stream",
          "text": [
            "/content/drive/My Drive/Colab Notebooks\n",
            " cis519hw4.ipynb               'Copy of Copy of CIS419519_HW4.ipynb'\n",
            "'Copy of CIS419519_HW4.ipynb'   \u001b[0m\u001b[01;34mdata\u001b[0m/\n"
          ],
          "name": "stdout"
        }
      ]
    },
    {
      "cell_type": "markdown",
      "metadata": {
        "id": "oyUMkljX3xM3"
      },
      "source": [
        "# 1 Neural Networks [40 points]"
      ]
    },
    {
      "cell_type": "markdown",
      "metadata": {
        "id": "VmpQflsV3cXz"
      },
      "source": [
        "The areas where you need to make changes are marked with *TODO*\n"
      ]
    },
    {
      "cell_type": "code",
      "metadata": {
        "id": "OjsmBC3V3gS6"
      },
      "source": [
        "# Running this cell will download the CIFAR data to the machine that the\n",
        "# notebook is running on. You may need to rerun this every time you open\n",
        "# the notebook\n",
        "!wget https://www.seas.upenn.edu/~ddeutsch/train_images.npy\n",
        "!wget https://www.seas.upenn.edu/~ddeutsch/train_labels.npy\n",
        "!wget https://www.seas.upenn.edu/~ddeutsch/valid_images.npy\n",
        "!wget https://www.seas.upenn.edu/~ddeutsch/valid_labels.npy\n",
        "!wget https://www.seas.upenn.edu/~ddeutsch/test_images.npy\n",
        "!wget https://www.seas.upenn.edu/~ddeutsch/test_labels.npy"
      ],
      "execution_count": null,
      "outputs": []
    },
    {
      "cell_type": "code",
      "metadata": {
        "id": "zvbRIUu83h1y"
      },
      "source": [
        "import matplotlib.pyplot as plt\n",
        "import numpy\n",
        "import numpy as np\n",
        "import torch\n",
        "import torch.nn as nn\n",
        "import torch.nn.functional as F\n",
        "from torch.utils.data import Dataset, DataLoader\n",
        "from scipy.special import softmax"
      ],
      "execution_count": null,
      "outputs": []
    },
    {
      "cell_type": "code",
      "metadata": {
        "id": "GN3IXGvG3kpF"
      },
      "source": [
        "# This cell has the code to load the datasets. You should not need\n",
        "# to edit this cell unless you want to do the extra credit. If you do\n",
        "# you should only need to edit normalize_images.\n",
        "class CIFARDataset(Dataset):\n",
        "  def __init__(self, X, y):\n",
        "    self.len = len(X)\n",
        "    self.X = torch.FloatTensor(X).cuda()\n",
        "    self.y = torch.LongTensor(y).cuda()\n",
        "  \n",
        "  def __len__(self):\n",
        "    return self.len\n",
        "\n",
        "  def __getitem__(self, idx):\n",
        "    return self.X[idx], self.y[idx]\n",
        "\n",
        "\n",
        "def normalize_images(X_train, X_valid, X_test):\n",
        "  \"\"\"\n",
        "  Normalizes the images based on the means and standard deviations\n",
        "  of the training channels. Returns the new normalized images.\n",
        "  \"\"\"\n",
        "  std = []\n",
        "  mu = []\n",
        "\n",
        "  std = np.std(X_train[:, 0, :, :])\n",
        "  mu = np.average(X_train[:, 0, :, :])\n",
        "  X_train[:, 0, :, :] = (X_train[:, 0, :, :] - mu)/std\n",
        "  X_valid[:, 0, :, :] = (X_valid[:, 0, :, :] - mu)/std\n",
        "  X_test[:, 0, :, :] = (X_test[:, 0, :, :] - mu)/std\n",
        "\n",
        "  std = np.std(X_train[:, 1, :, :])\n",
        "  mu = np.average(X_train[:, 1, :, :])\n",
        "  X_train[:, 1, :, :] = (X_train[:, 1, :, :] - mu)/std\n",
        "  X_valid[:, 1, :, :] = (X_valid[:, 1, :, :] - mu)/std\n",
        "  X_test[:, 1, :, :] = (X_test[:, 1, :, :] - mu)/std\n",
        "\n",
        "  std = np.std(X_train[:, 2, :, :])\n",
        "  mu = np.average(X_train[:, 2, :, :])\n",
        "  X_train[:, 2, :, :] = (X_train[:, 2, :, :] - mu)/std\n",
        "  X_valid[:, 2, :, :] = (X_valid[:, 2, :, :] - mu)/std\n",
        "  X_test[:, 2, :, :] = (X_test[:, 2, :, :] - mu)/std\n",
        "\n",
        "  # TODO Implement this method for the extra credit experiments\n",
        "  return X_train, X_valid, X_test\n",
        "    \n",
        "\n",
        "def load_datasets(normalize=False):\n",
        "  X_train = np.load('train_images.npy').astype(float)\n",
        "  y_train = np.load('train_labels.npy')\n",
        "  X_valid = np.load('valid_images.npy').astype(float)\n",
        "  y_valid = np.load('valid_labels.npy')\n",
        "  X_test = np.load('test_images.npy').astype(float)\n",
        "  y_test = np.load('test_labels.npy')\n",
        "\n",
        "  if normalize:\n",
        "    X_train, X_valid, X_test = normalize_images(X_train, X_valid, X_test)\n",
        "  \n",
        "  train_data = CIFARDataset(X_train, y_train)\n",
        "  valid_data = CIFARDataset(X_valid, y_valid)\n",
        "  test_data = CIFARDataset(X_test, y_test)\n",
        "  \n",
        "  return train_data, valid_data, test_data"
      ],
      "execution_count": null,
      "outputs": []
    },
    {
      "cell_type": "code",
      "metadata": {
        "id": "IOfAOYyH2H-F"
      },
      "source": [
        ""
      ],
      "execution_count": null,
      "outputs": []
    },
    {
      "cell_type": "code",
      "metadata": {
        "id": "K50EdULN3lj7"
      },
      "source": [
        "# This is the implementation of the first network architecture. We have\n",
        "# started it, but you need to finish it. Do not change the class name\n",
        "# or the name of the data members \"fc1\" or \"fc2\"\n",
        "class FeedForward(torch.nn.Module):\n",
        "    def __init__(self):\n",
        "        super().__init__()\n",
        "        self.fc1 = torch.nn.Linear(3072, 1000)\n",
        "    # TODO\n",
        "    # You need to add the second layer's parameters\n",
        "        self.fc2 = torch.nn.Linear(1000, 10)\n",
        "    def forward(self, X):\n",
        "        batch_size = X.size(0)\n",
        "    # This next line reshapes the tensor to be size (B x 3072)\n",
        "    # so it can be passed through a linear layer.\n",
        "        X = X.view(batch_size, -1)\n",
        "    # TODO\n",
        "    # You need to pass X through the two linear layers and relu\n",
        "    # then return the final scores\n",
        "    \n",
        "        X = self.fc1(X)\n",
        "        X = F.relu(X)\n",
        "        X = self.fc2(X)\n",
        "        return X\n",
        "    "
      ],
      "execution_count": null,
      "outputs": []
    },
    {
      "cell_type": "code",
      "metadata": {
        "id": "R2d0IsbQ3mYE"
      },
      "source": [
        "# This is the implementation of the second network architecture. We have\n",
        "# started it, but you need to finish it. Do not change the class name\n",
        "# or the name of the data members \"conv1\", \"pool\", \"conv2\", \"fc1\", \"fc2\",\n",
        "# or \"fc3\".\n",
        "\n",
        "class Convolutional(torch.nn.Module):\n",
        "  def __init__(self):\n",
        "    super().__init__()\n",
        "    self.conv1 = torch.nn.Conv2d(in_channels=3,\n",
        "                                 out_channels=7,\n",
        "                                 kernel_size=3,\n",
        "                                 stride=1,\n",
        "                                 padding=0)\n",
        "    # TODO\n",
        "    # You need to add the pooling, second convolution, and\n",
        "    # three linear modules here\n",
        "    self.pool = torch.nn.MaxPool2d(kernel_size=2,stride=2)\n",
        "    self.conv2 = torch.nn.Conv2d(in_channels=7,\n",
        "                                 out_channels=16,\n",
        "                                 kernel_size=3,\n",
        "                                 stride=1,\n",
        "                                 padding=0)\n",
        "    self.fc1 = torch.nn.Linear(2704, 130)\n",
        "    self.fc2 = torch.nn.Linear(130, 72)\n",
        "    self.fc3 = torch.nn.Linear(72, 10)\n",
        "\n",
        "  def forward(self, X):\n",
        "    batch_size = X.size(0)\n",
        "    X = self.conv1(X)\n",
        "    X = self.pool(X)\n",
        "    X = self.conv2(X)\n",
        "    X = F.relu(X)\n",
        "    X = X.view(X.size(0), -1)\n",
        "    X = self.fc1(X)\n",
        "    X = F.relu(X)\n",
        "    X = self.fc2(X)\n",
        "    X = F.relu(X)\n",
        "    X = self.fc3(X)\n",
        "    X = torch.sigmoid(X)\n",
        "\n",
        "    return X\n"
      ],
      "execution_count": null,
      "outputs": []
    },
    {
      "cell_type": "code",
      "metadata": {
        "id": "NucnUvwa3nVK"
      },
      "source": [
        "# You need to finish implementing this method\n",
        "def compute_loss_and_accuracy(network, data_loader):\n",
        "  \"\"\"\n",
        "  Given a network, iterate over the dataset defined by the data_loader\n",
        "  and compute the accuracy of the model and the average loss.\n",
        "  \"\"\"\n",
        "  # This should be used to accumulate the total loss on the dataset\n",
        "  total_loss = 0\n",
        "\n",
        "  # This should count how many examples were correctly classified.\n",
        "  num_correct = 0\n",
        "\n",
        "  # This should count the number of examples in the dataset. (Be careful\n",
        "  # because it should -not- be the number of batches.)\n",
        "  num_instances = 0\n",
        "\n",
        "  # The CrossEntropyLoss by default will return the average loss\n",
        "  # for the batch. So, when you accumulate the total_loss, make sure\n",
        "  # to multiply the loss computed by CrossEntropyLoss by the batch size\n",
        "  cross_entropy_loss = torch.nn.CrossEntropyLoss()\n",
        "\n",
        "  for X, y in data_loader:\n",
        "    # TODO\n",
        "    with torch.no_grad():\n",
        "      output = network(X)\n",
        "  \n",
        "      _, output_max = torch.max(output, 1)\n",
        "      num_correct = num_correct + (output_max == y).sum().item()\n",
        "\n",
        "      loss = cross_entropy_loss(output, y)\n",
        "      batch_size = X.size(0)\n",
        "      total_loss = total_loss + batch_size * loss\n",
        "      num_instances = num_instances + y.size(0);\n",
        "  \n",
        "  accuracy = num_correct / num_instances * 100\n",
        "  average_loss = total_loss / num_instances\n",
        "  return accuracy, average_loss"
      ],
      "execution_count": null,
      "outputs": []
    },
    {
      "cell_type": "code",
      "metadata": {
        "id": "icU9s0Af3oL3"
      },
      "source": [
        "# You need to finish implementing this method\n",
        "def run_experiment(network, train_data_loader, valid_data_loader, optimizer):\n",
        "  # This will be a list of the average training losses for each epoch\n",
        "  train_losses = []\n",
        "  # This will be a list of the average validation losses for each epoch\n",
        "  valid_accs = []\n",
        "  # This will be a list of the validation accuracies for each epoch\n",
        "  valid_losses = []\n",
        "  # The CrossEntropyLoss by default will return the average loss\n",
        "  # for the batch. So, when you accumulate the total_loss, make sure\n",
        "  # to multiply the loss computed by CrossEntropyLoss by the batch size\n",
        "  cross_entropy_loss = torch.nn.CrossEntropyLoss()\n",
        "  for epoch in range(200):\n",
        "    # This should be used to accumulate the total loss on the training data\n",
        "    total_loss = 0.0\n",
        "    # This should be used to count the number of training examples. (Be careful\n",
        "    # because this is not the number of batches)\n",
        "    num_instances = 0\n",
        "    num_correct = 0\n",
        "    for X, y in train_data_loader:\n",
        "      # TODO\n",
        "      # You need to implement computing the loss for this batch\n",
        "      # and updating the model's parameters.\n",
        "      optimizer.zero_grad()\n",
        "      #calculate correct examples\n",
        "      output = network(X)\n",
        "      \n",
        "      _, output_max = torch.max(output, 1)\n",
        "      num_correct = num_correct + (output_max == y).sum().item()\n",
        "\n",
        "      #loss computation\n",
        "      loss = cross_entropy_loss(output, y)\n",
        "      batch_size = X.size(0)\n",
        "      total_loss = total_loss + batch_size * loss\n",
        "      loss.backward()\n",
        "      optimizer.step()\n",
        "\n",
        "      # total examples\n",
        "      num_instances = num_instances + y.size(0);\n",
        "\n",
        "    train_loss = total_loss / num_instances\n",
        "    valid_acc, valid_loss = compute_loss_and_accuracy(network, valid_data_loader)\n",
        "    train_losses.append(train_loss)\n",
        "    valid_accs.append(valid_acc)\n",
        "    valid_losses.append(valid_loss)\n",
        "  return train_losses, valid_accs, valid_losses"
      ],
      "execution_count": null,
      "outputs": []
    },
    {
      "cell_type": "code",
      "metadata": {
        "id": "PNU23swd3pII"
      },
      "source": [
        "# Load the data and create the iterators. You should not need\n",
        "# to modify this cell\n",
        "train_data, valid_data, test_data = load_datasets(normalize=False)\n",
        "train_data_loader = DataLoader(train_data, batch_size=64, shuffle=True)\n",
        "valid_data_loader = DataLoader(valid_data, batch_size=64)\n",
        "test_data_loader = DataLoader(test_data, batch_size=64)"
      ],
      "execution_count": null,
      "outputs": []
    },
    {
      "cell_type": "code",
      "metadata": {
        "id": "UpyI3FVy2LXG"
      },
      "source": [
        "# TODO\n",
        "# If you want to run the extra credit experiment, repeat the above experiments\n",
        "# but load the normalized data.\n",
        "train_data, valid_data, test_data = load_datasets(normalize=True)\n",
        "train_data_loader = DataLoader(train_data, batch_size=64, shuffle=True)\n",
        "valid_data_loader = DataLoader(valid_data, batch_size=64)\n",
        "test_data_loader = DataLoader(test_data, batch_size=64)"
      ],
      "execution_count": null,
      "outputs": []
    },
    {
      "cell_type": "code",
      "metadata": {
        "id": "Knmg286M3qNw",
        "colab": {
          "base_uri": "https://localhost:8080/",
          "height": 349
        },
        "outputId": "db17a609-6f72-475e-f086-bdbc870ebc8c"
      },
      "source": [
        "# Implements the FeedForward experiment. You can base the Convolutional experiment\n",
        "# on this code. You should not need to edit this cell.\n",
        "best_network = None\n",
        "best_acc = None\n",
        "\n",
        "_, axs = plt.subplots(1,3)\n",
        "axs[0].set_title('Training Loss')\n",
        "axs[1].set_title('Validation Loss')\n",
        "axs[2].set_title('Validation Accuracies')\n",
        "\n",
        "for lr in [0.0001, 0.00005, 0.00001]:\n",
        "  network = FeedForward()\n",
        "  network.cuda()\n",
        "  sgd = torch.optim.SGD(network.parameters(), lr=lr)\n",
        "\n",
        "  train_losses, valid_accs, valid_losses = run_experiment(network, train_data_loader, valid_data_loader, sgd)\n",
        "  valid_acc = valid_accs[-1]\n",
        "  print(f'LR = {lr}, Valid Acc: {valid_acc}')\n",
        "  if best_acc is None or valid_acc > best_acc:\n",
        "    best_acc = valid_acc\n",
        "    best_network = network\n",
        "\n",
        "  axs[0].plot(train_losses, label=str(lr))\n",
        "  axs[1].plot(valid_losses, label=str(lr))\n",
        "  axs[2].plot(valid_accs, label=str(lr))\n",
        "\n",
        "plt.legend()\n",
        "\n",
        "test_acc, _ = compute_loss_and_accuracy(best_network, test_data_loader)\n",
        "print('Test Accuracy: ' + str(test_acc))"
      ],
      "execution_count": null,
      "outputs": [
        {
          "output_type": "stream",
          "text": [
            "LR = 0.0001, Valid Acc: 40.9\n",
            "LR = 5e-05, Valid Acc: 37.2\n",
            "LR = 1e-05, Valid Acc: 28.299999999999997\n",
            "Test Accuracy: 40.300000000000004\n"
          ],
          "name": "stdout"
        },
        {
          "output_type": "display_data",
          "data": {
            "image/png": "[encoded data removed]",
            "text/plain": [
              "<Figure size 432x288 with 3 Axes>"
            ]
          },
          "metadata": {
            "tags": [],
            "needs_background": "light"
          }
        }
      ]
    },
    {
      "cell_type": "code",
      "metadata": {
        "id": "uM-SuSNo2mjm",
        "colab": {
          "base_uri": "https://localhost:8080/"
        },
        "outputId": "6b1f47e2-a08b-45a8-dfff-d3a7421a6318"
      },
      "source": [
        "# TODO\n",
        "# You should implement the Convolutional experiment here. It should be\n",
        "# very similar to the cell above.\n",
        "best_network = None\n",
        "best_acc = None\n",
        "\n",
        "_, axs = plt.subplots(1,3)\n",
        "axs[0].set_title('Training Loss')\n",
        "axs[1].set_title('Validation Loss')\n",
        "axs[2].set_title('Validation Accuracies')\n",
        "\n",
        "for lr in [0.01, 0.001, 0.0001]:\n",
        "  network = Convolutional()\n",
        "  network.cuda()\n",
        "  sgd = torch.optim.SGD(network.parameters(), lr=lr)\n",
        "\n",
        "  train_losses, valid_accs, valid_losses = run_experiment(network, train_data_loader, valid_data_loader, sgd)\n",
        "  valid_acc = valid_accs[-1]\n",
        "  print(f'LR = {lr}, Valid Acc: {valid_acc}')\n",
        "  if best_acc is None or valid_acc > best_acc:\n",
        "    best_acc = valid_acc\n",
        "    best_network = network\n",
        "\n",
        "  axs[0].plot(train_losses, label=str(lr))\n",
        "  axs[1].plot(valid_losses, label=str(lr))\n",
        "  axs[2].plot(valid_accs, label=str(lr))\n",
        "\n",
        "plt.legend()\n",
        "\n",
        "test_acc, _ = compute_loss_and_accuracy(best_network, test_data_loader)\n",
        "print('Test Accuracy: ' + str(test_acc))"
      ],
      "execution_count": null,
      "outputs": [
        {
          "output_type": "stream",
          "text": [
            "LR = 0.01, Valid Acc: 48.6\n",
            "LR = 0.001, Valid Acc: 30.3\n",
            "LR = 0.0001, Valid Acc: 11.05\n",
            "Test Accuracy: 49.1\n"
          ],
          "name": "stdout"
        },
        {
          "output_type": "display_data",
          "data": {
            "image/png": "[encoded data removed]",
            "text/plain": [
              "<Figure size 432x288 with 3 Axes>"
            ]
          },
          "metadata": {
            "tags": [],
            "needs_background": "light"
          }
        }
      ]
    },
    {
      "cell_type": "markdown",
      "metadata": {
        "id": "pUpTY69x8nDg"
      },
      "source": [
        "## (Optional) Extra Credit"
      ]
    },
    {
      "cell_type": "code",
      "metadata": {
        "id": "74OWiCZb3bI4"
      },
      "source": [
        "# TODO\n",
        "# If you want to run the extra credit experiment, repeat the above experiments\n",
        "# but load the normalized data.\n",
        "train_data, valid_data, test_data = load_datasets(normalize=True)\n",
        "train_data_loader = DataLoader(train_data, batch_size=64, shuffle=True)\n",
        "valid_data_loader = DataLoader(valid_data, batch_size=64)\n",
        "test_data_loader = DataLoader(test_data, batch_size=64)"
      ],
      "execution_count": null,
      "outputs": []
    },
    {
      "cell_type": "markdown",
      "metadata": {
        "id": "TYwXnmT84JN8"
      },
      "source": [
        "# 2 Document Classification [40 Points]"
      ]
    },
    {
      "cell_type": "markdown",
      "metadata": {
        "id": "sraIV0B15sjE"
      },
      "source": [
        "##2.2 Document Representation"
      ]
    },
    {
      "cell_type": "code",
      "metadata": {
        "id": "tra_pwaF4MVE"
      },
      "source": [
        "import json"
      ],
      "execution_count": null,
      "outputs": []
    },
    {
      "cell_type": "code",
      "metadata": {
        "id": "apJgSHlX4W1x"
      },
      "source": [
        "from collections import defaultdict\n",
        "def get_vocabulary(D):\n",
        "    \"\"\"\n",
        "    Given a list of documents, where each document is represented as\n",
        "    a list of tokens, return the resulting vocabulary. The vocabulary\n",
        "    should be a set of tokens which appear more than once in the entire\n",
        "    document collection plus the \"<unk>\" token.\n",
        "    \"\"\"\n",
        "    vocab = set()\n",
        "    vocab_freq = {}\n",
        "    vocab.add(\"<unk>\")\n",
        "    # check frequencies\n",
        "    for doc in D:\n",
        "      for token in doc:\n",
        "        if token in vocab_freq.keys():\n",
        "          vocab_freq[token] += 1\n",
        "        else:\n",
        "          vocab_freq[token] = 1\n",
        "    for token, freq in vocab_freq.items():\n",
        "      if vocab_freq[token] > 1:\n",
        "        vocab.add(token)\n",
        "          \n",
        "    return vocab"
      ],
      "execution_count": null,
      "outputs": []
    },
    {
      "cell_type": "code",
      "metadata": {
        "id": "IUDce-K64Ybu"
      },
      "source": [
        "class BBoWFeaturizer(object):\n",
        "  def convert_document_to_feature_dictionary(self, doc, vocab):\n",
        "    \"\"\"\n",
        "    Given a document represented as a list of tokens and the vocabulary\n",
        "    as a set of tokens, compute the binary bag-of-words feature representation.\n",
        "    This function should return a dictionary which maps from the name of the\n",
        "    feature to the value of that feature.\n",
        "    \"\"\"\n",
        "    feat_dict = {}\n",
        "    for token in doc:\n",
        "      if token in vocab:\n",
        "        feat_dict[token] = 1\n",
        "      else:\n",
        "        feat_dict[\"<unk>\"] = 1\n",
        "    return feat_dict"
      ],
      "execution_count": null,
      "outputs": []
    },
    {
      "cell_type": "code",
      "metadata": {
        "id": "TRGSMxFp4ZZP"
      },
      "source": [
        "class CBoWFeaturizer(object):\n",
        "  def convert_document_to_feature_dictionary(self, doc, vocab):\n",
        "    \"\"\"\n",
        "    Given a document represented as a list of tokens and the vocabulary\n",
        "    as a set of tokens, compute the count bag-of-words feature representation.\n",
        "    This function should return a dictionary which maps from the name of the\n",
        "    feature to the value of that feature.\n",
        "    \"\"\"\n",
        "    feat_dict = {}\n",
        "    for token in doc:\n",
        "      if token in vocab:\n",
        "        if token in feat_dict:\n",
        "          feat_dict[token] += 1\n",
        "        else:\n",
        "          feat_dict[token] = 1\n",
        "      else:\n",
        "        if \"<unk>\" in feat_dict:\n",
        "          feat_dict[\"<unk>\"] += 1\n",
        "        else:\n",
        "          feat_dict[\"<unk>\"] = 1\n",
        "    return feat_dict\n"
      ],
      "execution_count": null,
      "outputs": []
    },
    {
      "cell_type": "code",
      "metadata": {
        "id": "gjsIv_JU4aKo"
      },
      "source": [
        "def compute_idf(D, vocab):\n",
        "    \"\"\"\n",
        "    Given a list of documents D and the vocabulary as a set of tokens,\n",
        "    where each document is represented as a list of tokens, return the IDF scores\n",
        "    for every token in the vocab. The IDFs should be represented as a dictionary that\n",
        "    maps from the token to the IDF value. If a token is not present in the\n",
        "    vocab, it should be mapped to \"<unk>\".\n",
        "    \"\"\"\n",
        "    list_size = len(D)\n",
        "    idf_scores = {}\n",
        "        \n",
        "    for doc in D:\n",
        "        for token in vocab:\n",
        "            if token in doc:\n",
        "                if token not in idf_scores:\n",
        "                    idf_scores[token] = 1\n",
        "                else:\n",
        "                    idf_scores[token] = idf_scores[token] + 1\n",
        "    \n",
        "        \n",
        "    # account for <unk>\n",
        "    idf_scores[\"<unk>\"] = 0\n",
        "    for doc in D:\n",
        "        for token in doc:\n",
        "            if token not in vocab:\n",
        "                idf_scores[\"<unk>\"] = idf_scores[\"<unk>\"] + 1\n",
        "                break\n",
        "                \n",
        "    for token, val in idf_scores.items():\n",
        "        idf_scores[token] = numpy.log((list_size/val))\n",
        "        \n",
        "    return idf_scores\n",
        "    \n",
        "class TFIDFFeaturizer(object):\n",
        "    def __init__(self, idf):\n",
        "        \"\"\"The idf scores computed via `compute_idf`.\"\"\"\n",
        "        self.idf = idf\n",
        "    \n",
        "    def convert_document_to_feature_dictionary(self, doc, vocab):\n",
        "        \"\"\"\n",
        "        Given a document represented as a list of tokens and\n",
        "        the vocabulary as a set of tokens, compute\n",
        "        the TF-IDF feature representation. This function\n",
        "        should return a dictionary which maps from the name of the\n",
        "        feature to the value of that feature.\n",
        "        \"\"\"\n",
        "        # TODO\n",
        "        feat_dict_tf_idf = {}\n",
        "        cbow = CBoWFeaturizer()\n",
        "        feat_dict_tf =cbow.convert_document_to_feature_dictionary(doc, vocab)\n",
        "        for token, tf in feat_dict_tf.items():\n",
        "          feat_dict_tf_idf[token] = feat_dict_tf[token] * self.idf[token]\n",
        "        return feat_dict_tf_idf"
      ],
      "execution_count": null,
      "outputs": []
    },
    {
      "cell_type": "code",
      "metadata": {
        "id": "roHV8iYq4bKB"
      },
      "source": [
        "# You should not need to edit this cell\n",
        "def load_document_dataset(file_path):\n",
        "    D = []\n",
        "    y = []\n",
        "    with open(file_path, 'r') as f:\n",
        "        for line in f:\n",
        "            instance = json.loads(line)\n",
        "            D.append(instance['document'])\n",
        "            y.append(instance['label'])\n",
        "    return D, y\n",
        "\n",
        "def convert_to_features(D, featurizer, vocab):\n",
        "    X = []\n",
        "    for doc in D:\n",
        "        X.append(featurizer.convert_document_to_feature_dictionary(doc, vocab))\n",
        "    return X"
      ],
      "execution_count": null,
      "outputs": []
    },
    {
      "cell_type": "markdown",
      "metadata": {
        "id": "_z7dNapv5zJQ"
      },
      "source": [
        "##2.3 Naive Bayes Experiment"
      ]
    },
    {
      "cell_type": "code",
      "metadata": {
        "id": "FXh1H6vr4b-4"
      },
      "source": [
        "def train_naive_bayes(X, y, k, vocab):\n",
        "    \"\"\"\n",
        "    Computes the statistics for the Naive Bayes classifier.\n",
        "    X is a list of feature representations, where each representation\n",
        "    is a dictionary that maps from the feature name to the value.\n",
        "    y is a list of integers that represent the labels.\n",
        "    k is a float which is the smoothing parameters.\n",
        "    vocab is the set of vocabulary tokens.\n",
        "    \n",
        "    Returns two values:\n",
        "        p_y: A dictionary from the label to the corresponding p(y) score\n",
        "        p_v_y: A nested dictionary where the outer dictionary's key is\n",
        "            the label and the innner dictionary maps from a feature\n",
        "            to the probability p(v|y). For example, `p_v_y[1][\"hello\"]`\n",
        "            should be p(v=\"hello\"|y=1).\n",
        "    \"\"\"\n",
        "    y_freq = {}\n",
        "    p_y = {}\n",
        "    p_v_y = {}\n",
        "    total_labels = len(y)\n",
        "    vocab_size = len(vocab)\n",
        "    for label in y:\n",
        "      p_v_y[label] = {}\n",
        "      if label not in y_freq.keys():\n",
        "        y_freq[label] = 1\n",
        "      else:\n",
        "        y_freq[label] = y_freq[label] + 1\n",
        "    for label, freq in y_freq.items():\n",
        "      p_y[label] = y_freq[label] / total_labels\n",
        "    \n",
        "    #calculate the denominator\n",
        "    f_d_w = {}\n",
        "    for label in y:\n",
        "        f_d_w[label] = k * vocab_size\n",
        "        for v in vocab:\n",
        "            for i in range(len(X)):\n",
        "                if y[i] == label:\n",
        "                    if v in X[i].keys(): # check if current word in vocab is in current doc\n",
        "                        f_d_w[label] = f_d_w[label] + X[i][v]\n",
        "\n",
        "    #calculate the numerator\n",
        "    for label in y: #all y we consider for the P(v|y)'s\n",
        "        #f_d_v = {}\n",
        "        #f_d_v[label] = {} # numerator, dictionary for all tokens in the feature space\n",
        "      # f_d_w = 0 # denominator\n",
        "        for v in vocab:\n",
        "            p_v_y[label][v] = k\n",
        "            for i in range(len(X)):\n",
        "                if y[i] == label: # consider only all documents with current label of interest\n",
        "                #for token, val in X[i].items(): #X[i] represents a document\n",
        "                    if v in X[i].keys(): # for a given token of interrest\n",
        "                        p_v_y[label][v] = p_v_y[label][v] + X[i][v]\n",
        "                        \n",
        "      # p_v_y_inner = {}\n",
        "      #find the P(v|y)'s plus Laplace smoothing\n",
        "    for label, val in p_v_y.items():\n",
        "        for token, y in val.items():\n",
        "            p_v_y[label][token] = y / (f_d_w[label])\n",
        "      # p_v_y[label] = p_v_y_inner\n",
        "\n",
        "    return p_y, p_v_y"
      ],
      "execution_count": null,
      "outputs": []
    },
    {
      "cell_type": "code",
      "metadata": {
        "id": "-u4XbLrV4cvW"
      },
      "source": [
        "def predict_naive_bayes(D, p_y, p_v_y):\n",
        "    \"\"\"\n",
        "    Runs the prediction rule for Naive Bayes. D is a list of documents,\n",
        "    where each document is a list of tokens.\n",
        "    p_y and p_v_y are output from `train_naive_bayes`.\n",
        "    \n",
        "    Note that any token which is not in p_v_y should be mapped to\n",
        "    \"<unk>\". Further, the input dictionaries are probabilities. You\n",
        "    should convert them to log-probabilities while you compute\n",
        "    the Naive Bayes prediction rule to prevent underflow errors.\n",
        "    \n",
        "    Returns two values:\n",
        "        predictions: A list of integer labels, one for each document,\n",
        "            that is the predicted label for each instance.\n",
        "        confidences: A list of floats, one for each document, that is\n",
        "            p(y|d) for the corresponding label that is returned.\n",
        "    \"\"\"\n",
        "    # TODO\n",
        "    predictions = []\n",
        "    confidences = []\n",
        "    \n",
        "    for doc in D:\n",
        "      argmax_pyd = 0\n",
        "      prediction = 0\n",
        "      map = {}\n",
        "      arr = []\n",
        "      labels = []\n",
        "      for label, val in p_y.items():\n",
        "        prob_y = numpy.log(val)\n",
        "        p_y_d = prob_y\n",
        "        pyd_normal = val\n",
        "        for token in doc:\n",
        "        # check for \"<unk>\"\n",
        "          if label in p_v_y:\n",
        "            if token not in p_v_y[label]:\n",
        "                token = \"<unk>\"\n",
        "            p_y_d = p_y_d + numpy.log(p_v_y[label][token])\n",
        "          # pyd_normal = pyd_normal * p_v_y[label][token]\n",
        "        labels.append(p_y_d)\n",
        "        map[label] = p_y_d\n",
        "        arr.append(float(p_y_d))\n",
        "      \n",
        "        #if pyd_normal > argmax_pyd: #prediction is the label corresponding to max prob\n",
        "          #argmax_pyd = p_y_d\n",
        "          #prediction = label\n",
        "      \n",
        "      predictions.append(np.argmax(labels))\n",
        "      \n",
        "      confidences.append(max(softmax(arr)))\n",
        "      \n",
        "    \n",
        "    return predictions, confidences\n",
        "    "
      ],
      "execution_count": null,
      "outputs": []
    },
    {
      "cell_type": "markdown",
      "metadata": {
        "id": "PSRiYOyl8Lxl"
      },
      "source": [
        "## Running experiments for document classification"
      ]
    },
    {
      "cell_type": "code",
      "metadata": {
        "id": "TsyhRtua4ekk",
        "colab": {
          "base_uri": "https://localhost:8080/"
        },
        "outputId": "219e3503-3f90-47fe-e395-8dca3ec8711b"
      },
      "source": [
        "# Variables that are named D_* are lists of documents where each\n",
        "# document is a list of tokens. y_* is a list of integer class labels.\n",
        "# X_* is a list of the feature dictionaries for each document.\n",
        "# TODO you likely need to update these paths for your drive setup.\n",
        "%ls '/content/drive/MyDrive/Colab Notebooks/data'\n",
        "D_train, y_train = load_document_dataset('/content/drive/My Drive/Colab Notebooks/data/train.jsonl')\n",
        "D_valid, y_valid = load_document_dataset('/content/drive/My Drive/Colab Notebooks/data/valid.jsonl')\n",
        "D_test, y_test = load_document_dataset('/content/drive/My Drive/Colab Notebooks/data/test.jsonl')\n",
        "\n",
        "vocab = get_vocabulary(D_train)"
      ],
      "execution_count": null,
      "outputs": [
        {
          "output_type": "stream",
          "text": [
            "test.jsonl  train.jsonl  valid.jsonl\n"
          ],
          "name": "stdout"
        }
      ]
    },
    {
      "cell_type": "code",
      "metadata": {
        "id": "_Ua3cYy34fnv",
        "colab": {
          "base_uri": "https://localhost:8080/"
        },
        "outputId": "83accc7f-fa8e-4a78-b6d8-15a5e6b2fefb"
      },
      "source": [
        "# Compute the features, for example, using the BBowFeaturizer.\n",
        "# You actually only need to conver the training instances to their\n",
        "# feature-based representations.\n",
        "# \n",
        "# This is just starter code for the experiment. You need to fill in\n",
        "# the rest.\n",
        "\n",
        "from sklearn.metrics import accuracy_score\n",
        "\n",
        "highest_accuracy_bbow = 0\n",
        "highest_k_bbow = 0\n",
        "highest_accuracy_cbow = 0\n",
        "highest_k_cbow = 0\n",
        "highest_accuracy_tfidf = 0\n",
        "highest_k_tfidf = 0\n",
        "\n",
        "for k in [0.001, 0.01, 0.1, 1.0, 10.0]:\n",
        "  featurizer1 = BBoWFeaturizer()\n",
        "  X_train = convert_to_features(D_train, featurizer1, vocab)\n",
        "  p_y, p_v_y = train_naive_bayes_2(X_train, y_train, k, vocab)\n",
        "  predictions, confidences = predict_naive_bayes(D_valid, p_y, p_v_y)\n",
        "  bbow_acc = accuracy_score(predictions, y_valid)\n",
        "  if bbow_acc > highest_accuracy_bbow:\n",
        "    highest_accuracy_bbow = bbow_acc\n",
        "    highest_k_bbow = k\n",
        "\n",
        "print(\"highest k bbow: \")\n",
        "print(highest_k_bbow)\n",
        "\n",
        "# predict on test dataset\n",
        "featurizer1 = BBoWFeaturizer()\n",
        "X_train = convert_to_features(D_train, featurizer1, vocab)\n",
        "p_y, p_v_y = train_naive_bayes_2(X_train, y_train, highest_k_bbow, vocab)\n",
        "predictions, confidences = predict_naive_bayes(D_test, p_y, p_v_y)\n",
        "bbow_acc = accuracy_score(predictions, y_test)\n",
        "print(\"highest bbow acc test: \")\n",
        "print(bbow_acc)\n",
        "\n",
        "\n",
        "for k in [0.001, 0.01, 0.1, 1.0, 10.0]:\n",
        "  featurizer2 = CBoWFeaturizer()\n",
        "  X_train = convert_to_features(D_train, featurizer2, vocab)\n",
        "  p_y, p_v_y = train_naive_bayes_2(X_train, y_train, k, vocab)\n",
        "  predictions, confidences = predict_naive_bayes(D_valid, p_y, p_v_y)\n",
        "  cbow_acc = accuracy_score(predictions, y_valid)\n",
        "  if cbow_acc > highest_accuracy_cbow:\n",
        "    highest_accuracy_cbow = cbow_acc\n",
        "    highest_k_cbow = k\n",
        "\n",
        "print(\"highest k cbow: \")\n",
        "print(highest_k_cbow)\n",
        "\n",
        "featurizer2 = CBoWFeaturizer()\n",
        "X_train = convert_to_features(D_train, featurizer2, vocab)\n",
        "p_y, p_v_y = train_naive_bayes_2(X_train, y_train, highest_k_cbow, vocab)\n",
        "predictions, confidences = predict_naive_bayes(D_test, p_y, p_v_y)\n",
        "cbow_acc = accuracy_score(predictions, y_test)\n",
        "print(\"highest cbow acc test: \")\n",
        "print(cbow_acc)\n",
        "\n",
        "\n",
        "for k in [0.001, 0.01, 0.1, 1.0, 10.0]:\n",
        "  featurizer3 = TFIDFFeaturizer(compute_idf(D_train, vocab))\n",
        "  X_train = convert_to_features(D_train, featurizer3, vocab)\n",
        "  p_y, p_v_y = train_naive_bayes_2(X_train, y_train, k, vocab)\n",
        "  predictions, confidences = predict_naive_bayes(D_valid, p_y, p_v_y)\n",
        "  tfidf_acc = accuracy_score(predictions, y_valid)\n",
        "  if tfidf_acc > highest_accuracy_tfidf:\n",
        "    highest_accuracy_tfidf = tfidf_acc\n",
        "    highest_k_tfidf = k\n",
        "\n",
        "print(\"highest k tfidf: \")\n",
        "print(highest_k_tfidf)\n",
        "\n",
        "featurizer3 = TFIDFFeaturizer(compute_idf(D_train, vocab))\n",
        "X_train = convert_to_features(D_train, featurizer3, vocab)\n",
        "p_y, p_v_y = train_naive_bayes_2(X_train, y_train, highest_k_tfidf, vocab)\n",
        "predictions, confidences = predict_naive_bayes(D_test, p_y, p_v_y)\n",
        "tfidf_acc = accuracy_score(predictions, y_test)\n",
        "print(\"highest tfidf acc test: \")\n",
        "print(tfidf_acc)\n"
      ],
      "execution_count": null,
      "outputs": [
        {
          "output_type": "stream",
          "text": [
            "highest k bbow: \n",
            "0.001\n",
            "highest bbow acc test: \n",
            "0.5004\n",
            "highest k cbow: \n",
            "0.001\n",
            "highest cbow acc test: \n",
            "0.5004\n"
          ],
          "name": "stdout"
        }
      ]
    },
    {
      "cell_type": "code",
      "metadata": {
        "id": "ZtdWRjQiuP4a"
      },
      "source": [
        "def train_naive_bayes_2(X, y, k, vocab):\n",
        "  p_y = {}\n",
        "  p_v_y = {}\n",
        "  pvy_denom = {}\n",
        "  y_set = set(y)\n",
        "\n",
        "  for val in y:\n",
        "      p_y[val] = p_y[val] + (1/len(y)) if val in p_y else (1/len(y))\n",
        "  \n",
        "  for val in y_set:\n",
        "    p_v_y[val] = {}\n",
        "    denom = k* len(vocab)\n",
        "    for doc_index in range(len(X)):\n",
        "      if y[doc_index] == val:\n",
        "        for token in X[doc_index]:\n",
        "          p_v_y[val][token] = p_v_y[val][token] + X[doc_index][token] if token in p_v_y[val] else X[doc_index][token]\n",
        "          denom = denom + X[doc_index][token]\n",
        "    pvy_denom[val] = denom\n",
        "\n",
        "\n",
        "    for v, mapping in p_v_y.items():\n",
        "      for feature in vocab:\n",
        "        p_v_y[v][feature] = (p_v_y[v][feature] + k) / pvy_denom[v] if feature in p_v_y[v] else k/pvy_denom[v]\n",
        "    \n",
        "    return p_y, p_v_y"
      ],
      "execution_count": null,
      "outputs": []
    }
  ]
}